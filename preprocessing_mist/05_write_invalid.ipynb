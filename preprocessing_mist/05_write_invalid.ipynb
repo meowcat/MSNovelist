{
 "cells": [
  {
   "cell_type": "code",
   "execution_count": 1,
   "metadata": {},
   "outputs": [],
   "source": [
    "import sys\n",
    "sys.path.append('~/msmsgym/msnovelist-private')\n",
    "\n",
    "import infrastructure.preprocessing as pp\n",
    "import sqlite3\n",
    "import yaml\n",
    "import fp_management.fp_database as db\n",
    "import fp_management.fp_database_sqlite\n",
    "from tqdm import tqdm\n",
    "\n",
    "PROCESSING_BLOCK_MAX_COUNT=9999999999\n",
    "#PROCESSING_BLOCK_MAX_COUNT=100000\n",
    "\n",
    "\n",
    "config_ = \"/home/stravsmi/msmsgym/MSNovelist-private/preprocessing_mist/log.yaml\"\n",
    "with open(config_, 'r') as f:\n",
    "    config = yaml.safe_load(f)"
   ]
  },
  {
   "cell_type": "code",
   "execution_count": 2,
   "metadata": {},
   "outputs": [
    {
     "name": "stderr",
     "output_type": "stream",
     "text": [
      "100%|██████████| 268887/268887 [00:19<00:00, 13665.12it/s]\n",
      "100%|██████████| 2858/2858 [00:00<00:00, 19008.85it/s]\n"
     ]
    }
   ],
   "source": [
    "\n",
    "databases = [\n",
    "    config[\"db_step1\"], \n",
    "    config[\"db_step2\"]\n",
    "    ]\n",
    "\n",
    "for fp_db_ in databases:\n",
    "\n",
    "    fp_db = db.FpDatabase.load_from_config(fp_db_)\n",
    "    fp_db_invalid_ = fp_db_ + \".invalid_ids\"\n",
    "\n",
    "    with fp_db._db_con as con, open(fp_db_invalid_, 'r') as f:\n",
    "        \n",
    "        fp_db_invalid = [x.strip('\\n') for x in f]\n",
    "\n",
    "        q = \"UPDATE compounds SET grp = 'invalid' WHERE id = ?\"\n",
    "        cur = con.cursor()\n",
    "\n",
    "        for id in tqdm(fp_db_invalid):\n",
    "            cur.execute(q, [id])\n",
    "            #print(f\"{fp_db_}: set invalid id {id}, rows: {cur.rowcount}\")"
   ]
  }
 ],
 "metadata": {
  "kernelspec": {
   "display_name": "Python 3",
   "language": "python",
   "name": "python3"
  },
  "language_info": {
   "codemirror_mode": {
    "name": "ipython",
    "version": 3
   },
   "file_extension": ".py",
   "mimetype": "text/x-python",
   "name": "python",
   "nbconvert_exporter": "python",
   "pygments_lexer": "ipython3",
   "version": "3.7.10"
  },
  "orig_nbformat": 4
 },
 "nbformat": 4,
 "nbformat_minor": 2
}
