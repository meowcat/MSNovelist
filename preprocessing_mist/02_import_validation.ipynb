{
 "cells": [
  {
   "cell_type": "code",
   "execution_count": 1,
   "metadata": {},
   "outputs": [],
   "source": [
    "import h5py\n",
    "from tqdm import tqdm\n",
    "import sqlite3\n",
    "#import sqlite_utils as su\n",
    "\n",
    "%load_ext autoreload\n",
    "%autoreload 2\n",
    "\n",
    "import sys\n",
    "sys.path.append('~/msmsgym/MSNovelist-private')\n",
    "import os\n",
    "\n",
    "import fp_management.database as db\n",
    "import itertools\n",
    "import uuid\n",
    "import fp_management.mist_fingerprinting as fpr\n",
    "import fp_management.fingerprint_map as fpm\n",
    "import smiles_config as sc\n",
    "import pickle\n",
    "\n",
    "from rdkit import Chem\n",
    "from rdkit.Chem import AllChem"
   ]
  },
  {
   "cell_type": "code",
   "execution_count": 2,
   "metadata": {},
   "outputs": [],
   "source": [
    "db_crossval = \"/home/stravsmi/msmsgym/msnovelist-data-0531/msnovelist_crossval.hdf5\"\n",
    "db_train = \"/home/stravsmi/msmsgym/msnovelist-data-0531/msnovelist_train.hdf5\"\n",
    "\n",
    "# db_old = \"/sirius6_db/combined_0824_v44.db\"\n",
    "db_uuid = uuid.uuid4()\n",
    "db_new = f\"/home/stravsmi/msmsgym/msnovelist-data-0531/mist-val-{db_uuid}.db\"\n",
    "\n",
    "h5_crossval = h5py.File(db_crossval, mode='r')\n",
    "h5_train = h5py.File(db_train, mode='r')\n",
    "\n",
    "PROCESSING_BLOCK_SIZE=40000\n",
    "PROCESSING_BLOCK_MAX_COUNT=9999999999"
   ]
  },
  {
   "cell_type": "code",
   "execution_count": 3,
   "metadata": {},
   "outputs": [],
   "source": [
    "%autoreload\n",
    "fpr.MistFingerprinter.init_instance()\n",
    "fingerprinter = fpr.MistFingerprinter.get_instance()"
   ]
  },
  {
   "cell_type": "code",
   "execution_count": 4,
   "metadata": {},
   "outputs": [],
   "source": [
    "def try_fp_item(smiles_generic, smiles_canonical, fp, fold):\n",
    "    try:\n",
    "        item = db.FpItem.fromFingerprint(\n",
    "            smiles_generic = smiles_generic,\n",
    "            smiles_canonical = smiles_canonical,\n",
    "            fp = fp,\n",
    "            source = \"dataset\",\n",
    "            grp = fold,\n",
    "            b64 = False\n",
    "        )\n",
    "        item.fp_degraded = fp\n",
    "    except:\n",
    "        item = None\n",
    "    return item"
   ]
  },
  {
   "cell_type": "code",
   "execution_count": 5,
   "metadata": {},
   "outputs": [],
   "source": [
    "\n",
    "def db_item_block(block):\n",
    "    smiles, fold_ = zip(*block)\n",
    "    smiles_proc = fingerprinter.process(smiles, calc_fingerprint=True)\n",
    "    fp = [x[\"fingerprint\"] for x in smiles_proc]\n",
    "    fold = [x.decode() for x in fold_]\n",
    "    #print(str(fold))\n",
    "    item = zip(smiles_proc, fp, fold)\n",
    "    fp_items_ = [try_fp_item(s['smiles_generic'], s['smiles_canonical'], fp, fold)\n",
    "                 for s, fp, fold in item ]\n",
    "    fp_items = [x for x in fp_items_ if x is not None]\n",
    "    return fp_items"
   ]
  },
  {
   "cell_type": "code",
   "execution_count": 6,
   "metadata": {},
   "outputs": [
    {
     "name": "stdout",
     "output_type": "stream",
     "text": [
      "database: /home/stravsmi/msmsgym/msnovelist-data-0531/mist-val-3641eb4a-7b25-461d-aba9-edf7cbd2b12d.db\n"
     ]
    }
   ],
   "source": [
    "data_in = zip(h5_crossval[\"smiles\"], h5_crossval[\"fold\"])\n",
    "data_iter = iter(data_in)\n",
    "\n",
    "def take(n, iterable): \n",
    "    return list(itertools.islice(iterable, n))\n",
    "\n",
    "print(f\"database: {db_new}\")\n",
    "fp_db = db.FpDatabase.load_from_config(db_new)\n",
    "block = take(PROCESSING_BLOCK_SIZE, data_iter)"
   ]
  },
  {
   "cell_type": "code",
   "execution_count": 7,
   "metadata": {},
   "outputs": [
    {
     "name": "stdout",
     "output_type": "stream",
     "text": [
      "Processing block 0\n",
      "Loaded 40000 elements, selected 40000 elements, successfully processed 40000 elements\n",
      "Processing block 1\n",
      "Loaded 40000 elements, selected 40000 elements, successfully processed 40000 elements\n",
      "Processing block 2\n",
      "Loaded 40000 elements, selected 40000 elements, successfully processed 40000 elements\n",
      "Processing block 3\n",
      "Loaded 40000 elements, selected 40000 elements, successfully processed 40000 elements\n",
      "Processing block 4\n",
      "Loaded 40000 elements, selected 40000 elements, successfully processed 40000 elements\n",
      "Processing block 5\n",
      "Loaded 33446 elements, selected 33446 elements, successfully processed 33446 elements\n",
      "Done.\n"
     ]
    }
   ],
   "source": [
    "\n",
    "processed_blocks = 0\n",
    "while (len(block) > 0) and (processed_blocks < PROCESSING_BLOCK_MAX_COUNT):\n",
    "    print(f\"Processing block {processed_blocks}\")\n",
    "    selected_elements = len(block)\n",
    "    data_proc = db_item_block(block)\n",
    "    print(f\"Loaded {len(block)} elements, \"\n",
    "          f\"selected {selected_elements} elements, \"\n",
    "          f\"successfully processed {len(data_proc)} elements\")\n",
    "    fp_db.insert_fp_multiple(data_proc)\n",
    "    #print(f\"last inserted id: {inserted_id}\")\n",
    "    block = take(PROCESSING_BLOCK_SIZE, data_iter)\n",
    "    processed_blocks = processed_blocks + 1\n",
    "print(\"Done.\")\n"
   ]
  }
 ],
 "metadata": {
  "kernelspec": {
   "display_name": "Python 3",
   "language": "python",
   "name": "python3"
  },
  "language_info": {
   "codemirror_mode": {
    "name": "ipython",
    "version": 3
   },
   "file_extension": ".py",
   "mimetype": "text/x-python",
   "name": "python",
   "nbconvert_exporter": "python",
   "pygments_lexer": "ipython3",
   "version": "3.7.10"
  },
  "orig_nbformat": 4
 },
 "nbformat": 4,
 "nbformat_minor": 2
}
