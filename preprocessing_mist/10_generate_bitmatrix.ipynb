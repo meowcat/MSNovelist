{
 "cells": [
  {
   "cell_type": "code",
   "execution_count": 3,
   "metadata": {},
   "outputs": [],
   "source": [
    "\n",
    "import sys\n",
    "sys.path.append('/home/stravsmi/msmsgym/MSNovelist-private')\n",
    "import fp_management.fp_database as db\n",
    "import fp_management.fp_database_sqlite as db\n",
    "import fp_management.mist_fingerprinting as fpr\n",
    "import h5py\n",
    "import numpy as np\n",
    "import humanize\n",
    "import pandas as pd\n",
    "from enum import IntEnum\n",
    "import pickle\n",
    "import sqlite3\n",
    "from tqdm import tqdm\n",
    "import pathlib\n",
    "import yaml\n",
    "h5_crossval_ = db_crossval = \"/home/stravsmi/msmsgym/msnovelist-data/msnovelist_crossval.hdf5\"\n",
    "h5_crossval = h5py.File(h5_crossval_, mode='r')\n",
    "# csi_pred = h5_crossval[\"csiPredicted\"]\n",
    "# csi_truth = h5_crossval[\"csiTruth\"]\n",
    "# inchikeys = h5_crossval[\"inchikeys\"]\n",
    "\n"
   ]
  },
  {
   "cell_type": "code",
   "execution_count": 4,
   "metadata": {},
   "outputs": [],
   "source": [
    "\n",
    "config_ = \"/home/stravsmi/msmsgym/MSNovelist-private/preprocessing_mist/log.yaml\"\n",
    "with open(config_, 'r') as f:\n",
    "    config = yaml.safe_load(f)\n"
   ]
  },
  {
   "cell_type": "code",
   "execution_count": 5,
   "metadata": {},
   "outputs": [],
   "source": [
    "\n",
    "db_crossval_ = config[\"db_step2\"]\n",
    "db_crossval = sqlite3.connect(db_crossval_)\n"
   ]
  },
  {
   "cell_type": "code",
   "execution_count": 6,
   "metadata": {},
   "outputs": [],
   "source": [
    "fpr.MistFingerprinter.init_instance()\n",
    "fingerprinter = fpr.MistFingerprinter.get_instance()"
   ]
  },
  {
   "cell_type": "code",
   "execution_count": 7,
   "metadata": {},
   "outputs": [
    {
     "name": "stderr",
     "output_type": "stream",
     "text": [
      "0it [00:00, ?it/s]"
     ]
    },
    {
     "name": "stderr",
     "output_type": "stream",
     "text": [
      "448972it [01:24, 5322.65it/s]\n"
     ]
    }
   ],
   "source": [
    "\n",
    "def dict_factory(cursor, row):\n",
    "    fields = [column[0] for column in cursor.description]\n",
    "    return {key: value for key, value in zip(fields, row)}\n",
    "\n",
    "db_crossval.row_factory = dict_factory\n",
    "\n",
    "db_crossval_cur = db_crossval.cursor()\n",
    "# include everything, also the invalid entries,\n",
    "# as we later need to pick them by row id!\n",
    "cpds_query = db_crossval_cur.execute(\"SELECT * FROM compounds\")\n",
    "def read_fp(cpd_data):\n",
    "    fp_truth = fingerprinter.get_fp(cpd_data[\"fingerprint\"])\n",
    "    fp_pred = fingerprinter.get_fp(cpd_data[\"fingerprint_degraded\"])\n",
    "    fp_truth_int = np.rint(fp_truth).astype(\"int16\")\n",
    "    fp_pred_int = np.rint(fp_pred).astype(\"int16\")\n",
    "    return (fp_truth_int, fp_pred_int)\n",
    "\n",
    "fp_data = [read_fp(cpd) for cpd in tqdm(cpds_query)]\n"
   ]
  },
  {
   "cell_type": "code",
   "execution_count": 14,
   "metadata": {},
   "outputs": [],
   "source": [
    "csi_truth_int = np.stack([fp_truth[0,:] for fp_truth, fp_pred in fp_data])\n",
    "csi_pred_int = np.stack([fp_pred[0,:] for fp_truth, fp_pred in fp_data])\n"
   ]
  },
  {
   "cell_type": "code",
   "execution_count": 16,
   "metadata": {},
   "outputs": [],
   "source": [
    "csi_TP = csi_pred_int & csi_truth_int\n",
    "csi_FP = csi_pred_int & np.logical_not(csi_truth_int)\n",
    "csi_TN = np.logical_not(csi_pred_int) & np.logical_not(csi_truth_int)\n",
    "csi_FN = np.logical_not(csi_pred_int) & csi_truth_int\n"
   ]
  },
  {
   "cell_type": "code",
   "execution_count": 17,
   "metadata": {},
   "outputs": [],
   "source": [
    "\n",
    "class Bitmask(IntEnum):\n",
    "    PREDICTED = 1\n",
    "    TRUTH = 2\n",
    "    TP = 4\n",
    "    FP = 8\n",
    "    TN = 16\n",
    "    FN = 32\n",
    "\n",
    "\n",
    "csi_multiplex = \\\n",
    "    Bitmask.PREDICTED * csi_pred_int + \\\n",
    "    Bitmask.TRUTH * csi_truth_int + \\\n",
    "    Bitmask.TP *  csi_TP + \\\n",
    "    Bitmask.FP * csi_FP + \\\n",
    "    Bitmask.TN * csi_TN + \\\n",
    "    Bitmask.FN * csi_FN\n",
    "# create a bit-encoded matrix, where \n",
    "# * bit1 is predicted T/F \n",
    "# * bit2 is true T/F\n",
    "\n"
   ]
  },
  {
   "cell_type": "code",
   "execution_count": 19,
   "metadata": {},
   "outputs": [
    {
     "name": "stdout",
     "output_type": "stream",
     "text": [
      "14.7 GB\n",
      "1.8 GB\n"
     ]
    }
   ],
   "source": [
    "\n",
    "print(humanize.naturalsize(sys.getsizeof(csi_multiplex)))\n",
    "csi_multiplex_min = csi_multiplex.astype('int8')\n",
    "print(humanize.naturalsize(sys.getsizeof(csi_multiplex_min)))\n"
   ]
  },
  {
   "cell_type": "code",
   "execution_count": 20,
   "metadata": {},
   "outputs": [],
   "source": [
    "\n",
    "out_path = pathlib.Path(db_crossval_).with_suffix('.pkl')\n",
    "with open(out_path, 'wb') as f:\n",
    "    pickle.dump(csi_multiplex_min, f)\n"
   ]
  },
  {
   "cell_type": "code",
   "execution_count": null,
   "metadata": {},
   "outputs": [],
   "source": []
  }
 ],
 "metadata": {
  "kernelspec": {
   "display_name": "Python 3",
   "language": "python",
   "name": "python3"
  },
  "language_info": {
   "codemirror_mode": {
    "name": "ipython",
    "version": 3
   },
   "file_extension": ".py",
   "mimetype": "text/x-python",
   "name": "python",
   "nbconvert_exporter": "python",
   "pygments_lexer": "ipython3",
   "version": "3.7.10"
  },
  "orig_nbformat": 4
 },
 "nbformat": 4,
 "nbformat_minor": 2
}
