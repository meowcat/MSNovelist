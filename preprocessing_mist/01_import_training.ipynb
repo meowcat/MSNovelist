{
 "cells": [
  {
   "cell_type": "code",
   "execution_count": 1,
   "metadata": {},
   "outputs": [],
   "source": [
    "import h5py\n",
    "from tqdm import tqdm\n",
    "import sqlite3\n",
    "#import sqlite_utils as su\n",
    "\n",
    "%load_ext autoreload\n",
    "%autoreload 2\n",
    "\n",
    "import sys\n",
    "sys.path.append('~/msmsgym/MSNovelist-private')\n",
    "import os\n",
    "\n",
    "import fp_management.database as db\n",
    "import itertools\n",
    "import uuid\n",
    "import fp_management.mist_fingerprinting as fpr\n",
    "import fp_management.fingerprint_map as fpm\n",
    "import smiles_config as sc\n",
    "import pickle\n",
    "\n",
    "from rdkit import Chem\n",
    "from rdkit.Chem import AllChem"
   ]
  },
  {
   "cell_type": "code",
   "execution_count": 2,
   "metadata": {},
   "outputs": [],
   "source": [
    "db_crossval = \"/home/stravsmi/msmsgym/msnovelist-data-0531/msnovelist_crossval.hdf5\"\n",
    "db_train = \"/home/stravsmi/msmsgym/msnovelist-data-0531/msnovelist_train.hdf5\"\n",
    "\n",
    "# db_old = \"/sirius6_db/combined_0824_v44.db\"\n",
    "db_uuid = uuid.uuid4()\n",
    "db_new = f\"/home/stravsmi/msmsgym/msnovelist-data-0531/mist-{db_uuid}.db\"\n",
    "\n",
    "h5_crossval = h5py.File(db_crossval, mode='r')\n",
    "h5_train = h5py.File(db_train, mode='r')\n",
    "\n",
    "PROCESSING_BLOCK_SIZE=40000\n",
    "PROCESSING_BLOCK_MAX_COUNT=9999999999"
   ]
  },
  {
   "cell_type": "code",
   "execution_count": 3,
   "metadata": {},
   "outputs": [],
   "source": [
    "%autoreload\n",
    "fpr.MistFingerprinter.init_instance()\n",
    "fingerprinter = fpr.MistFingerprinter.get_instance()"
   ]
  },
  {
   "cell_type": "code",
   "execution_count": 4,
   "metadata": {},
   "outputs": [],
   "source": [
    "def try_fp_item(smiles_generic, smiles_canonical, fp):\n",
    "    try:\n",
    "        item = db.FpItem.fromFingerprint(\n",
    "            smiles_generic = smiles_generic,\n",
    "            smiles_canonical = smiles_canonical,\n",
    "            fp = fp,\n",
    "            source = \"dataset\",\n",
    "            grp = \"train\",\n",
    "            b64 = False\n",
    "        )\n",
    "    except:\n",
    "        item = None\n",
    "    return item"
   ]
  },
  {
   "cell_type": "code",
   "execution_count": 5,
   "metadata": {},
   "outputs": [],
   "source": [
    "\n",
    "def db_item_block(block):\n",
    "    smiles = [x for x in block if x  != b'\\\\N']\n",
    "    smiles_proc = fingerprinter.process(smiles, calc_fingerprint=True, return_b64=False)\n",
    "    fp = [x[\"fingerprint\"] for x in smiles_proc]\n",
    "    item = zip(smiles_proc, fp)\n",
    "    fp_items_ = [try_fp_item(s['smiles_generic'], s['smiles_canonical'], fp)\n",
    "                 for s, fp in item ]\n",
    "    fp_items = [x for x in fp_items_ if x is not None]\n",
    "    return fp_items"
   ]
  },
  {
   "cell_type": "code",
   "execution_count": 6,
   "metadata": {},
   "outputs": [
    {
     "name": "stdout",
     "output_type": "stream",
     "text": [
      "database: /home/stravsmi/msmsgym/msnovelist-data-0531/mist-36e563e2-2450-44a9-85c5-1e2ac07d7a38.db\n"
     ]
    }
   ],
   "source": [
    "data_in = h5_train[\"smiles\"]\n",
    "data_iter = iter(data_in)\n",
    "\n",
    "def take(n, iterable): \n",
    "    return list(itertools.islice(iterable, n))\n",
    "\n",
    "print(f\"database: {db_new}\")\n",
    "\n",
    "fp_db = db.FpDatabase.load_from_config(db_new)\n",
    "block = take(PROCESSING_BLOCK_SIZE, data_iter)"
   ]
  },
  {
   "cell_type": "code",
   "execution_count": 7,
   "metadata": {},
   "outputs": [
    {
     "name": "stdout",
     "output_type": "stream",
     "text": [
      "Processing block 0\n",
      "Loaded 40000 elements, selected 40000 elements, successfully processed 39978 elements\n",
      "Processing block 1\n"
     ]
    },
    {
     "name": "stderr",
     "output_type": "stream",
     "text": [
      "RDKit ERROR: [16:20:58] Explicit valence for atom # 0 B, 5, is greater than permitted\n"
     ]
    },
    {
     "name": "stdout",
     "output_type": "stream",
     "text": [
      "failed parsing id 23087 - b'[B+]1(N(C(C(=O)O1)CC(=O)O)CC2=CC=CC=C2)(F)F'\n",
      "Loaded 40000 elements, selected 40000 elements, successfully processed 39980 elements\n",
      "Processing block 2\n",
      "Loaded 40000 elements, selected 40000 elements, successfully processed 39980 elements\n",
      "Processing block 3\n",
      "Loaded 40000 elements, selected 40000 elements, successfully processed 39978 elements\n",
      "Processing block 4\n"
     ]
    },
    {
     "name": "stderr",
     "output_type": "stream",
     "text": [
      "RDKit ERROR: [16:23:43] Explicit valence for atom # 0 B, 5, is greater than permitted\n"
     ]
    },
    {
     "name": "stdout",
     "output_type": "stream",
     "text": [
      "failed parsing id 12536 - b'[B+]12(CC3CC(C1)CC(C2)C3)N(CC4=CC=CC=C4)C(=O)OC'\n",
      "Loaded 40000 elements, selected 40000 elements, successfully processed 39965 elements\n",
      "Processing block 5\n",
      "Loaded 40000 elements, selected 40000 elements, successfully processed 39982 elements\n",
      "Processing block 6\n",
      "Loaded 40000 elements, selected 40000 elements, successfully processed 39981 elements\n",
      "Processing block 7\n",
      "Loaded 40000 elements, selected 40000 elements, successfully processed 39982 elements\n",
      "Processing block 8\n"
     ]
    },
    {
     "name": "stderr",
     "output_type": "stream",
     "text": [
      "RDKit ERROR: [16:27:27] Can't kekulize mol.  Unkekulized atoms: 1 2 4 5 7 8 10 11 13 14 16 17 19 20 22 24 26 27 28 30 32 33 34 36 38 40 41 43 44 45 46 47 48 49 50 52 53 55 57 59 60 61 63 65 66 67 69 70 71 72 73 74 75 76 77 78 79 80 81 82 83 84 85 86 87 88 89 90 91 92 93 94 95 96 97 98 99 100 101 102 103 104 105 106 107 108 109 110 111 112\n",
      "RDKit ERROR: \n"
     ]
    },
    {
     "name": "stdout",
     "output_type": "stream",
     "text": [
      "Error generating fingerprint\n"
     ]
    },
    {
     "name": "stderr",
     "output_type": "stream",
     "text": [
      "RDKit ERROR: [16:27:43] Can't kekulize mol.  Unkekulized atoms: 1 2 4 5 7 8 10 11 13 14 16 17 19 20 22 24 26 27 28 30 32 33 34 36 38 40 41 43 44 45 46 47 48 49 50 52 53 55 57 59 60 61 63 65 66 67 69 70 71 72 73 74 75 76 77 78 79 80 81 82 83 84 85 86 87 88 89 90 91 92 93 94 95 96 97 98 99 100 101 102 103 104 105 106 107 108 109 110 111 112\n",
      "RDKit ERROR: \n"
     ]
    },
    {
     "name": "stdout",
     "output_type": "stream",
     "text": [
      "Loaded 40000 elements, selected 40000 elements, successfully processed 39976 elements\n",
      "Processing block 9\n",
      "Loaded 40000 elements, selected 40000 elements, successfully processed 39978 elements\n",
      "Processing block 10\n",
      "Loaded 40000 elements, selected 40000 elements, successfully processed 39979 elements\n",
      "Processing block 11\n",
      "Loaded 40000 elements, selected 40000 elements, successfully processed 39982 elements\n",
      "Processing block 12\n",
      "Loaded 40000 elements, selected 40000 elements, successfully processed 39981 elements\n",
      "Processing block 13\n",
      "Loaded 40000 elements, selected 40000 elements, successfully processed 39978 elements\n",
      "Processing block 14\n"
     ]
    },
    {
     "name": "stderr",
     "output_type": "stream",
     "text": [
      "RDKit ERROR: [16:32:48] Can't kekulize mol.  Unkekulized atoms: 2 3 4 5 6 15 17 18 27 28 29 30 39 41 42 43 44 45 46 47 48 49 50 51 52 53 54 55 56 57 58 59 60 61 62 63 64 65 66 67 68 69 70 71 72 73 74 75 76 77 78 79 80 81 82 83 84 85 86 87 88 89\n",
      "RDKit ERROR: \n"
     ]
    },
    {
     "name": "stdout",
     "output_type": "stream",
     "text": [
      "Error generating fingerprint\n"
     ]
    },
    {
     "name": "stderr",
     "output_type": "stream",
     "text": [
      "RDKit ERROR: [16:33:04] Can't kekulize mol.  Unkekulized atoms: 2 3 4 5 6 15 17 18 27 28 29 30 39 41 42 43 44 45 46 47 48 49 50 51 52 53 54 55 56 57 58 59 60 61 62 63 64 65 66 67 68 69 70 71 72 73 74 75 76 77 78 79 80 81 82 83 84 85 86 87 88 89\n",
      "RDKit ERROR: \n"
     ]
    },
    {
     "name": "stdout",
     "output_type": "stream",
     "text": [
      "Loaded 40000 elements, selected 40000 elements, successfully processed 39978 elements\n",
      "Processing block 15\n",
      "Loaded 40000 elements, selected 40000 elements, successfully processed 39983 elements\n",
      "Processing block 16\n",
      "Loaded 40000 elements, selected 40000 elements, successfully processed 39982 elements\n",
      "Processing block 17\n",
      "Loaded 40000 elements, selected 40000 elements, successfully processed 39980 elements\n",
      "Processing block 18\n",
      "Loaded 40000 elements, selected 40000 elements, successfully processed 39978 elements\n",
      "Processing block 19\n",
      "Loaded 40000 elements, selected 40000 elements, successfully processed 39975 elements\n",
      "Processing block 20\n",
      "Loaded 40000 elements, selected 40000 elements, successfully processed 39982 elements\n",
      "Processing block 21\n"
     ]
    },
    {
     "name": "stderr",
     "output_type": "stream",
     "text": [
      "RDKit ERROR: [16:39:15] Explicit valence for atom # 0 B, 5, is greater than permitted\n"
     ]
    },
    {
     "name": "stdout",
     "output_type": "stream",
     "text": [
      "failed parsing id 16737 - b'[B+]1(N(CCO1)C2=NC=NC3=C2N=CN3CC(=C)C(=O)OCC)(C4=CC=CC=C4)C5=CC=CC=C5'\n",
      "Loaded 40000 elements, selected 40000 elements, successfully processed 39975 elements\n",
      "Processing block 22\n",
      "Loaded 40000 elements, selected 40000 elements, successfully processed 39977 elements\n",
      "Processing block 23\n",
      "Loaded 40000 elements, selected 40000 elements, successfully processed 39984 elements\n",
      "Processing block 24\n",
      "Loaded 40000 elements, selected 40000 elements, successfully processed 39976 elements\n",
      "Processing block 25\n",
      "Loaded 40000 elements, selected 40000 elements, successfully processed 39985 elements\n",
      "Processing block 26\n",
      "Loaded 40000 elements, selected 40000 elements, successfully processed 39976 elements\n",
      "Processing block 27\n",
      "Loaded 40000 elements, selected 40000 elements, successfully processed 39981 elements\n",
      "Processing block 28\n",
      "Loaded 40000 elements, selected 40000 elements, successfully processed 39976 elements\n",
      "Processing block 29\n",
      "Loaded 40000 elements, selected 40000 elements, successfully processed 39973 elements\n",
      "Processing block 30\n"
     ]
    },
    {
     "name": "stderr",
     "output_type": "stream",
     "text": [
      "RDKit ERROR: [16:47:20] Explicit valence for atom # 0 B, 5, is greater than permitted\n"
     ]
    },
    {
     "name": "stdout",
     "output_type": "stream",
     "text": [
      "failed parsing id 7796 - b'[B+]1(N(CCO1)C2=NC=NC3=C2N=CN3C4C(C(C(O4)CO)O)O)(C5=CC=CC=C5)C6=CC=CC=C6'\n",
      "Loaded 40000 elements, selected 40000 elements, successfully processed 39985 elements\n",
      "Processing block 31\n"
     ]
    },
    {
     "name": "stderr",
     "output_type": "stream",
     "text": [
      "RDKit ERROR: [16:48:13] Explicit valence for atom # 0 B, 5, is greater than permitted\n"
     ]
    },
    {
     "name": "stdout",
     "output_type": "stream",
     "text": [
      "failed parsing id 5273 - b'[B+]12(CC3CC(C1)CC(C2)C3)[N-]C45CC6CC(C4)C(C6)C5'\n",
      "Loaded 40000 elements, selected 40000 elements, successfully processed 39973 elements\n",
      "Processing block 32\n",
      "Loaded 40000 elements, selected 40000 elements, successfully processed 39983 elements\n",
      "Processing block 33\n",
      "Loaded 40000 elements, selected 40000 elements, successfully processed 39983 elements\n",
      "Processing block 34\n",
      "Loaded 40000 elements, selected 40000 elements, successfully processed 39987 elements\n",
      "Processing block 35\n",
      "Loaded 40000 elements, selected 40000 elements, successfully processed 39983 elements\n",
      "Processing block 36\n",
      "failed parsing id 537 - b'C1=CC(=CC=C1C(C(CO)NC(=O)C(Cl)Cl)O)Cl(=O)(=O)=O'\n"
     ]
    },
    {
     "name": "stderr",
     "output_type": "stream",
     "text": [
      "RDKit ERROR: [16:52:43] Explicit valence for atom # 17 Cl, 7, is greater than permitted\n",
      "RDKit ERROR: [16:52:44] Explicit valence for atom # 11 Cl, 7, is greater than permitted\n"
     ]
    },
    {
     "name": "stdout",
     "output_type": "stream",
     "text": [
      "failed parsing id 13596 - b'CP(=NS(=O)(=O)C(F)(F)F)(N=Cl(=O)(=O)O)N=Cl(=O)(=O)O'\n",
      "Loaded 40000 elements, selected 40000 elements, successfully processed 39979 elements\n",
      "Processing block 37\n",
      "Loaded 40000 elements, selected 40000 elements, successfully processed 39993 elements\n",
      "Processing block 38\n",
      "Loaded 40000 elements, selected 40000 elements, successfully processed 39979 elements\n",
      "Processing block 39\n",
      "Loaded 40000 elements, selected 40000 elements, successfully processed 39978 elements\n",
      "Processing block 40\n"
     ]
    },
    {
     "name": "stderr",
     "output_type": "stream",
     "text": [
      "RDKit WARNING: [16:56:18] WARNING: could not find number of expected rings. Switching to an approximate ring finding algorithm.\n",
      "RDKit WARNING: [16:56:26] WARNING: could not find number of expected rings. Switching to an approximate ring finding algorithm.\n",
      "RDKit WARNING: [16:56:43] WARNING: could not find number of expected rings. Switching to an approximate ring finding algorithm.\n"
     ]
    },
    {
     "name": "stdout",
     "output_type": "stream",
     "text": [
      "Loaded 40000 elements, selected 40000 elements, successfully processed 39986 elements\n",
      "Processing block 41\n"
     ]
    },
    {
     "name": "stderr",
     "output_type": "stream",
     "text": [
      "RDKit ERROR: [16:57:12] Explicit valence for atom # 0 B, 5, is greater than permitted\n"
     ]
    },
    {
     "name": "stdout",
     "output_type": "stream",
     "text": [
      "failed parsing id 12669 - b'[B+]12(CC3CC(C1)CC(C2)C3)C(=O)NC(CC4=CC=CC=C4)C(=O)OC'\n",
      "Loaded 40000 elements, selected 40000 elements, successfully processed 39979 elements\n",
      "Processing block 42\n",
      "Loaded 40000 elements, selected 40000 elements, successfully processed 39982 elements\n",
      "Processing block 43\n"
     ]
    },
    {
     "name": "stderr",
     "output_type": "stream",
     "text": [
      "RDKit ERROR: [16:59:05] Explicit valence for atom # 0 B, 5, is greater than permitted\n"
     ]
    },
    {
     "name": "stdout",
     "output_type": "stream",
     "text": [
      "failed parsing id 35215 - b'[B+]1(N(CCO1)C2=NC=NC3=C2N=CN3CCCN4C(=O)C5CCCCC5C4=O)(C6=CC=CC=C6)C7=CC=CC=C7'\n",
      "Loaded 40000 elements, selected 40000 elements, successfully processed 39976 elements\n",
      "Processing block 44\n"
     ]
    },
    {
     "name": "stderr",
     "output_type": "stream",
     "text": [
      "RDKit ERROR: [16:59:55] Explicit valence for atom # 11 Cl, 7, is greater than permitted\n"
     ]
    },
    {
     "name": "stdout",
     "output_type": "stream",
     "text": [
      "failed parsing id 6284 - b'CCCNC1=C(C=CC(=N1)SCl(=O)(=O)=O)C(F)(F)F'\n",
      "Loaded 40000 elements, selected 40000 elements, successfully processed 39982 elements\n",
      "Processing block 45\n",
      "failed parsing id 1291 - b'[B+]12(CC3CC(C1)CC(C2)C3)NCCO'\n"
     ]
    },
    {
     "name": "stderr",
     "output_type": "stream",
     "text": [
      "RDKit ERROR: [17:00:48] Explicit valence for atom # 0 B, 5, is greater than permitted\n"
     ]
    },
    {
     "name": "stdout",
     "output_type": "stream",
     "text": [
      "Loaded 40000 elements, selected 40000 elements, successfully processed 39982 elements\n",
      "Processing block 46\n",
      "Loaded 40000 elements, selected 40000 elements, successfully processed 39980 elements\n",
      "Processing block 47\n",
      "Loaded 40000 elements, selected 40000 elements, successfully processed 39981 elements\n",
      "Processing block 48\n"
     ]
    },
    {
     "name": "stderr",
     "output_type": "stream",
     "text": [
      "RDKit ERROR: [17:03:30] Explicit valence for atom # 0 B, 5, is greater than permitted\n"
     ]
    },
    {
     "name": "stdout",
     "output_type": "stream",
     "text": [
      "failed parsing id 17158 - b'[B+]1(NC(CO1)(C)C)(CCCC)O'\n",
      "Loaded 40000 elements, selected 40000 elements, successfully processed 39984 elements\n",
      "Processing block 49\n",
      "Loaded 40000 elements, selected 40000 elements, successfully processed 39984 elements\n",
      "Processing block 50\n",
      "Loaded 40000 elements, selected 40000 elements, successfully processed 39985 elements\n",
      "Processing block 51\n",
      "Loaded 40000 elements, selected 40000 elements, successfully processed 39981 elements\n",
      "Processing block 52\n",
      "Loaded 40000 elements, selected 40000 elements, successfully processed 39975 elements\n",
      "Processing block 53\n",
      "Loaded 40000 elements, selected 40000 elements, successfully processed 39976 elements\n",
      "Processing block 54\n"
     ]
    },
    {
     "name": "stderr",
     "output_type": "stream",
     "text": [
      "RDKit ERROR: [17:08:55] Explicit valence for atom # 0 B, 5, is greater than permitted\n"
     ]
    },
    {
     "name": "stdout",
     "output_type": "stream",
     "text": [
      "failed parsing id 36103 - b'[B+]1(N(CCO1)C2=NC=NC3=C2N=CN3CCOCCOCCO)(C4=CC=CC=C4)C5=CC=CC=C5'\n",
      "Loaded 40000 elements, selected 40000 elements, successfully processed 39978 elements\n",
      "Processing block 55\n",
      "Loaded 40000 elements, selected 40000 elements, successfully processed 39976 elements\n",
      "Processing block 56\n",
      "Loaded 40000 elements, selected 40000 elements, successfully processed 39980 elements\n",
      "Processing block 57\n",
      "Loaded 40000 elements, selected 40000 elements, successfully processed 39981 elements\n",
      "Processing block 58\n",
      "Loaded 40000 elements, selected 40000 elements, successfully processed 39979 elements\n",
      "Processing block 59\n"
     ]
    },
    {
     "name": "stderr",
     "output_type": "stream",
     "text": [
      "RDKit ERROR: [17:13:23] Explicit valence for atom # 0 B, 5, is greater than permitted\n"
     ]
    },
    {
     "name": "stdout",
     "output_type": "stream",
     "text": [
      "failed parsing id 35391 - b'[B+]12(C3CCCC1CCC3)N4CCCCC4C5=CC=CCN25'\n",
      "Loaded 40000 elements, selected 40000 elements, successfully processed 39974 elements\n",
      "Processing block 60\n",
      "Loaded 40000 elements, selected 40000 elements, successfully processed 39975 elements\n",
      "Processing block 61\n",
      "Loaded 40000 elements, selected 40000 elements, successfully processed 39983 elements\n",
      "Processing block 62\n",
      "Loaded 40000 elements, selected 40000 elements, successfully processed 39973 elements\n",
      "Processing block 63\n",
      "Loaded 40000 elements, selected 40000 elements, successfully processed 39984 elements\n",
      "Processing block 64\n",
      "Loaded 40000 elements, selected 40000 elements, successfully processed 39977 elements\n",
      "Processing block 65\n",
      "Loaded 40000 elements, selected 40000 elements, successfully processed 39973 elements\n",
      "Processing block 66\n",
      "Loaded 40000 elements, selected 40000 elements, successfully processed 39978 elements\n",
      "Processing block 67\n",
      "Loaded 40000 elements, selected 40000 elements, successfully processed 39982 elements\n",
      "Processing block 68\n",
      "Loaded 40000 elements, selected 40000 elements, successfully processed 39978 elements\n",
      "Processing block 69\n"
     ]
    },
    {
     "name": "stderr",
     "output_type": "stream",
     "text": [
      "RDKit ERROR: [17:22:17] Explicit valence for atom # 10 Cl, 7, is greater than permitted\n"
     ]
    },
    {
     "name": "stdout",
     "output_type": "stream",
     "text": [
      "failed parsing id 9988 - b'CCSC1=C(C=CC(=N1)SCl(=O)(=O)=O)C(F)(F)F'\n",
      "Loaded 40000 elements, selected 40000 elements, successfully processed 39988 elements\n",
      "Processing block 70\n",
      "Loaded 40000 elements, selected 40000 elements, successfully processed 39974 elements\n",
      "Processing block 71\n",
      "Loaded 40000 elements, selected 40000 elements, successfully processed 39974 elements\n",
      "Processing block 72\n",
      "Loaded 40000 elements, selected 40000 elements, successfully processed 39977 elements\n",
      "Processing block 73\n",
      "Loaded 40000 elements, selected 40000 elements, successfully processed 39983 elements\n",
      "Processing block 74\n"
     ]
    },
    {
     "name": "stderr",
     "output_type": "stream",
     "text": [
      "RDKit ERROR: [17:26:48] Explicit valence for atom # 0 B, 5, is greater than permitted\n"
     ]
    },
    {
     "name": "stdout",
     "output_type": "stream",
     "text": [
      "failed parsing id 33635 - b'[B+]1(N(CCO1)C2=NC=NC3=C2NC=N3)(C4=CC=CC=C4)C5=CC=CC=C5'\n",
      "Loaded 40000 elements, selected 40000 elements, successfully processed 39978 elements\n",
      "Processing block 75\n",
      "Loaded 40000 elements, selected 40000 elements, successfully processed 39977 elements\n",
      "Processing block 76\n",
      "Loaded 40000 elements, selected 40000 elements, successfully processed 39979 elements\n",
      "Processing block 77\n",
      "Loaded 40000 elements, selected 40000 elements, successfully processed 39985 elements\n",
      "Processing block 78\n",
      "Loaded 40000 elements, selected 40000 elements, successfully processed 39976 elements\n",
      "Processing block 79\n",
      "Loaded 40000 elements, selected 40000 elements, successfully processed 39980 elements\n",
      "Processing block 80\n",
      "Loaded 40000 elements, selected 40000 elements, successfully processed 39988 elements\n",
      "Processing block 81\n",
      "Loaded 40000 elements, selected 40000 elements, successfully processed 39983 elements\n",
      "Processing block 82\n",
      "Loaded 40000 elements, selected 40000 elements, successfully processed 39983 elements\n",
      "Processing block 83\n",
      "Loaded 40000 elements, selected 40000 elements, successfully processed 39972 elements\n",
      "Processing block 84\n"
     ]
    },
    {
     "name": "stderr",
     "output_type": "stream",
     "text": [
      "RDKit ERROR: [17:35:58] Explicit valence for atom # 0 B, 5, is greater than permitted\n"
     ]
    },
    {
     "name": "stdout",
     "output_type": "stream",
     "text": [
      "failed parsing id 8581 - b'[B+]12(OC(CC(O1)C=CC3=CC(=C(C=C3)O)OC)C=CC4=CC(=C(C=C4)O)OC)OC(CC(O2)C=CC5=CC(=C(C=C5)O)OC)C=CC6=CC(=C(C=C6)O)OC'\n",
      "Loaded 40000 elements, selected 40000 elements, successfully processed 39981 elements\n",
      "Processing block 85\n"
     ]
    },
    {
     "name": "stderr",
     "output_type": "stream",
     "text": [
      "RDKit ERROR: [17:36:52] Explicit valence for atom # 0 B, 5, is greater than permitted\n"
     ]
    },
    {
     "name": "stdout",
     "output_type": "stream",
     "text": [
      "failed parsing id 2920 - b'[B+]12(CC3CC(C1)CC(C2)C3)[N-]C45CC6CC(C4)CC(C6)C5'\n",
      "Loaded 40000 elements, selected 40000 elements, successfully processed 39986 elements\n",
      "Processing block 86\n",
      "Loaded 40000 elements, selected 40000 elements, successfully processed 39979 elements\n",
      "Processing block 87\n",
      "Loaded 40000 elements, selected 40000 elements, successfully processed 39975 elements\n",
      "Processing block 88\n"
     ]
    },
    {
     "name": "stderr",
     "output_type": "stream",
     "text": [
      "RDKit ERROR: [17:39:36] Explicit valence for atom # 0 B, 5, is greater than permitted\n"
     ]
    },
    {
     "name": "stdout",
     "output_type": "stream",
     "text": [
      "failed parsing id 24007 - b'[B+]12(CC3CC(C1)CC(C2)C3)N(CC(C)C)C(=O)OC'\n",
      "Loaded 40000 elements, selected 40000 elements, successfully processed 39985 elements\n",
      "Processing block 89\n",
      "Loaded 40000 elements, selected 40000 elements, successfully processed 39977 elements\n",
      "Processing block 90\n",
      "Loaded 40000 elements, selected 40000 elements, successfully processed 39981 elements\n",
      "Processing block 91\n",
      "Loaded 40000 elements, selected 40000 elements, successfully processed 39979 elements\n",
      "Processing block 92\n",
      "Loaded 40000 elements, selected 40000 elements, successfully processed 39981 elements\n",
      "Processing block 93\n",
      "Loaded 40000 elements, selected 40000 elements, successfully processed 39974 elements\n",
      "Processing block 94\n",
      "Loaded 40000 elements, selected 40000 elements, successfully processed 39978 elements\n",
      "Processing block 95\n"
     ]
    },
    {
     "name": "stderr",
     "output_type": "stream",
     "text": [
      "RDKit ERROR: [17:46:11] Can't kekulize mol.  Unkekulized atoms: 2 3 4 5 6 7 8 9 10 11 12 13 14 15 16 19 22 23 24 27 30 31 32 35 38 39 40 43 46 47 48 49 50 51 52 53 54 55 56 57 58 59 62 65 66 67 70 73 74 75 78 81 82 83 86 87 88 89 90 91 92 93 94 95 96 97 98 99 100 101 102 103 104 105 106 107 108 109 110 111 112 113 114 115 116 117 118 119 120 121 122 123 124 125 126 127 128 129 130 131 132 133 134 135 136 137 138 139 140 141 142 143 144 145 146 147 148 149 150 151\n",
      "RDKit ERROR: \n"
     ]
    },
    {
     "name": "stdout",
     "output_type": "stream",
     "text": [
      "Error generating fingerprint\n"
     ]
    },
    {
     "name": "stderr",
     "output_type": "stream",
     "text": [
      "RDKit ERROR: [17:46:35] Can't kekulize mol.  Unkekulized atoms: 2 3 4 5 6 7 8 9 10 11 12 13 14 15 16 19 22 23 24 27 30 31 32 35 38 39 40 43 46 47 48 49 50 51 52 53 54 55 56 57 58 59 62 65 66 67 70 73 74 75 78 81 82 83 86 87 88 89 90 91 92 93 94 95 96 97 98 99 100 101 102 103 104 105 106 107 108 109 110 111 112 113 114 115 116 117 118 119 120 121 122 123 124 125 126 127 128 129 130 131 132 133 134 135 136 137 138 139 140 141 142 143 144 145 146 147 148 149 150 151\n",
      "RDKit ERROR: \n"
     ]
    },
    {
     "name": "stdout",
     "output_type": "stream",
     "text": [
      "Loaded 40000 elements, selected 40000 elements, successfully processed 39981 elements\n",
      "Processing block 96\n",
      "Loaded 40000 elements, selected 40000 elements, successfully processed 39978 elements\n",
      "Processing block 97\n",
      "Loaded 40000 elements, selected 40000 elements, successfully processed 39981 elements\n",
      "Processing block 98\n",
      "Loaded 40000 elements, selected 40000 elements, successfully processed 39975 elements\n",
      "Processing block 99\n",
      "Loaded 40000 elements, selected 40000 elements, successfully processed 39988 elements\n",
      "Processing block 100\n",
      "Loaded 40000 elements, selected 40000 elements, successfully processed 39982 elements\n",
      "Processing block 101\n",
      "Loaded 40000 elements, selected 40000 elements, successfully processed 39975 elements\n",
      "Processing block 102\n",
      "Loaded 40000 elements, selected 40000 elements, successfully processed 39987 elements\n",
      "Processing block 103\n",
      "Loaded 40000 elements, selected 40000 elements, successfully processed 39978 elements\n",
      "Processing block 104\n",
      "Loaded 15091 elements, selected 15091 elements, successfully processed 15080 elements\n",
      "Done.\n"
     ]
    }
   ],
   "source": [
    "%autoreload\n",
    "processed_blocks = 0\n",
    "while (len(block) > 0) and (processed_blocks < PROCESSING_BLOCK_MAX_COUNT):\n",
    "    print(f\"Processing block {processed_blocks}\")\n",
    "    selected_elements = len(block)\n",
    "    data_proc = db_item_block(block)\n",
    "    print(f\"Loaded {len(block)} elements, \"\n",
    "          f\"selected {selected_elements} elements, \"\n",
    "          f\"successfully processed {len(data_proc)} elements\")\n",
    "    fp_db.insert_fp_multiple(data_proc)\n",
    "    #print(f\"last inserted id: {inserted_id}\")\n",
    "    block = take(PROCESSING_BLOCK_SIZE, data_iter)\n",
    "    processed_blocks = processed_blocks + 1\n",
    "print(\"Done.\")"
   ]
  }
 ],
 "metadata": {
  "kernelspec": {
   "display_name": "Python 3",
   "language": "python",
   "name": "python3"
  },
  "language_info": {
   "codemirror_mode": {
    "name": "ipython",
    "version": 3
   },
   "file_extension": ".py",
   "mimetype": "text/x-python",
   "name": "python",
   "nbconvert_exporter": "python",
   "pygments_lexer": "ipython3",
   "version": "3.7.10"
  },
  "orig_nbformat": 4
 },
 "nbformat": 4,
 "nbformat_minor": 2
}
