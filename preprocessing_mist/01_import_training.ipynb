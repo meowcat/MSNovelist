{
 "cells": [
  {
   "cell_type": "code",
   "execution_count": 1,
   "metadata": {},
   "outputs": [],
   "source": [
    "import h5py\n",
    "from tqdm import tqdm\n",
    "import sqlite3\n",
    "#import sqlite_utils as su\n",
    "\n",
    "%load_ext autoreload\n",
    "%autoreload 2\n",
    "\n",
    "import sys\n",
    "sys.path.append('~/msmsgym/MSNovelist-private')\n",
    "import os\n",
    "\n",
    "import fp_management.database as db\n",
    "import itertools\n",
    "import uuid\n",
    "import fp_management.mist_fingerprinting as fpr\n",
    "import fp_management.fingerprint_map as fpm\n",
    "import smiles_config as sc\n",
    "import pickle\n",
    "\n",
    "from rdkit import Chem\n",
    "from rdkit.Chem import AllChem"
   ]
  },
  {
   "cell_type": "code",
   "execution_count": 2,
   "metadata": {},
   "outputs": [],
   "source": [
    "db_crossval = \"/home/stravsmi/msmsgym/msnovelist-data/msnovelist_crossval.hdf5\"\n",
    "db_train = \"/home/stravsmi/msmsgym/msnovelist-data/msnovelist_train.hdf5\"\n",
    "\n",
    "# db_old = \"/sirius6_db/combined_0824_v44.db\"\n",
    "db_uuid = uuid.uuid4()\n",
    "db_new = f\"/home/stravsmi/msmsgym/msnovelist-data/mist-{db_uuid}.db\"\n",
    "\n",
    "h5_crossval = h5py.File(db_crossval, mode='r')\n",
    "h5_train = h5py.File(db_train, mode='r')\n",
    "\n",
    "PROCESSING_BLOCK_SIZE=40000\n",
    "PROCESSING_BLOCK_MAX_COUNT=9999999999"
   ]
  },
  {
   "cell_type": "code",
   "execution_count": 3,
   "metadata": {},
   "outputs": [],
   "source": [
    "%autoreload\n",
    "fpr.MistFingerprinter.init_instance()\n",
    "fingerprinter = fpr.MistFingerprinter.get_instance()"
   ]
  },
  {
   "cell_type": "code",
   "execution_count": 4,
   "metadata": {},
   "outputs": [],
   "source": [
    "def try_fp_item(smiles_generic, smiles_canonical, fp):\n",
    "    try:\n",
    "        item = db.FpItem.fromFingerprint(\n",
    "            smiles_generic = smiles_generic,\n",
    "            smiles_canonical = smiles_canonical,\n",
    "            fp = fp,\n",
    "            source = \"dataset\",\n",
    "            grp = \"fold0\",\n",
    "            b64 = False\n",
    "        )\n",
    "    except:\n",
    "        item = None\n",
    "    return item"
   ]
  },
  {
   "cell_type": "code",
   "execution_count": 5,
   "metadata": {},
   "outputs": [],
   "source": [
    "\n",
    "def db_item_block(block):\n",
    "    smiles = block\n",
    "    smiles_proc = fingerprinter.process(smiles, calc_fingerprint=True)\n",
    "    fp = [x[\"fingerprint\"] for x in smiles_proc]\n",
    "    item = zip(smiles_proc, fp)\n",
    "    fp_items_ = [try_fp_item(s['smiles_generic'], s['smiles_canonical'], fp)\n",
    "                 for s, fp in item ]\n",
    "    fp_items = [x for x in fp_items_ if x is not None]\n",
    "    return fp_items"
   ]
  },
  {
   "cell_type": "code",
   "execution_count": 6,
   "metadata": {},
   "outputs": [
    {
     "name": "stdout",
     "output_type": "stream",
     "text": [
      "database: /home/stravsmi/msmsgym/msnovelist-data/mist-9652ac1e-0a8f-4ad0-b622-8092332976d7.db\n"
     ]
    }
   ],
   "source": [
    "data_in = h5_train[\"smiles\"]\n",
    "data_iter = iter(data_in)\n",
    "\n",
    "def take(n, iterable): \n",
    "    return list(itertools.islice(iterable, n))\n",
    "\n",
    "print(f\"database: {db_new}\")\n",
    "\n",
    "fp_db = db.FpDatabase.load_from_config(db_new)\n",
    "block = take(PROCESSING_BLOCK_SIZE, data_iter)"
   ]
  },
  {
   "cell_type": "code",
   "execution_count": 7,
   "metadata": {},
   "outputs": [
    {
     "name": "stdout",
     "output_type": "stream",
     "text": [
      "Processing block 0\n",
      "Loaded 40000 elements, selected 40000 elements, successfully processed 40000 elements\n",
      "Processing block 1\n",
      "Loaded 40000 elements, selected 40000 elements, successfully processed 40000 elements\n",
      "Processing block 2\n",
      "Loaded 40000 elements, selected 40000 elements, successfully processed 40000 elements\n",
      "Processing block 3\n",
      "Loaded 40000 elements, selected 40000 elements, successfully processed 40000 elements\n",
      "Processing block 4\n",
      "Loaded 40000 elements, selected 40000 elements, successfully processed 40000 elements\n",
      "Processing block 5\n",
      "Loaded 40000 elements, selected 40000 elements, successfully processed 40000 elements\n",
      "Processing block 6\n",
      "Loaded 40000 elements, selected 40000 elements, successfully processed 40000 elements\n",
      "Processing block 7\n"
     ]
    },
    {
     "name": "stderr",
     "output_type": "stream",
     "text": [
      "RDKit ERROR: [17:35:06] Can't kekulize mol.  Unkekulized atoms: 1 2 4 5 7 8 10 11 13 14 16 17 19 20 22 24 26 27 28 30 32 33 34 36 38 40 41 43 44 45 46 47 48 49 50 52 53 55 57 59 60 61 63 65 66 67 69 70 71 72 73 74 75 76 77 78 79 80 81 82 83 84 85 86 87 88 89 90 91 92 93 94 95 96 97 98 99 100 101 102 103 104 105 106 107 108 109 110 111 112\n",
      "RDKit ERROR: \n"
     ]
    },
    {
     "name": "stdout",
     "output_type": "stream",
     "text": [
      "Error generating fingerprint\n"
     ]
    },
    {
     "name": "stderr",
     "output_type": "stream",
     "text": [
      "RDKit ERROR: [17:35:27] Can't kekulize mol.  Unkekulized atoms: 1 2 4 5 7 8 10 11 13 14 16 17 19 20 22 24 26 27 28 30 32 33 34 36 38 40 41 43 44 45 46 47 48 49 50 52 53 55 57 59 60 61 63 65 66 67 69 70 71 72 73 74 75 76 77 78 79 80 81 82 83 84 85 86 87 88 89 90 91 92 93 94 95 96 97 98 99 100 101 102 103 104 105 106 107 108 109 110 111 112\n",
      "RDKit ERROR: \n"
     ]
    },
    {
     "name": "stdout",
     "output_type": "stream",
     "text": [
      "Loaded 40000 elements, selected 40000 elements, successfully processed 39999 elements\n",
      "Processing block 8\n",
      "Loaded 40000 elements, selected 40000 elements, successfully processed 40000 elements\n",
      "Processing block 9\n",
      "Loaded 40000 elements, selected 40000 elements, successfully processed 40000 elements\n",
      "Processing block 10\n",
      "Loaded 40000 elements, selected 40000 elements, successfully processed 40000 elements\n",
      "Processing block 11\n",
      "Loaded 40000 elements, selected 40000 elements, successfully processed 40000 elements\n",
      "Processing block 12\n",
      "Loaded 40000 elements, selected 40000 elements, successfully processed 40000 elements\n",
      "Processing block 13\n"
     ]
    },
    {
     "name": "stderr",
     "output_type": "stream",
     "text": [
      "RDKit ERROR: [17:40:20] Can't kekulize mol.  Unkekulized atoms: 2 3 4 5 6 15 17 18 27 28 29 30 39 41 42 43 44 45 46 47 48 49 50 51 52 53 54 55 56 57 58 59 60 61 62 63 64 65 66 67 68 69 70 71 72 73 74 75 76 77 78 79 80 81 82 83 84 85 86 87 88 89\n",
      "RDKit ERROR: \n"
     ]
    },
    {
     "name": "stdout",
     "output_type": "stream",
     "text": [
      "Error generating fingerprint\n"
     ]
    },
    {
     "name": "stderr",
     "output_type": "stream",
     "text": [
      "RDKit ERROR: [17:40:36] Can't kekulize mol.  Unkekulized atoms: 2 3 4 5 6 15 17 18 27 28 29 30 39 41 42 43 44 45 46 47 48 49 50 51 52 53 54 55 56 57 58 59 60 61 62 63 64 65 66 67 68 69 70 71 72 73 74 75 76 77 78 79 80 81 82 83 84 85 86 87 88 89\n",
      "RDKit ERROR: \n"
     ]
    },
    {
     "name": "stdout",
     "output_type": "stream",
     "text": [
      "Loaded 40000 elements, selected 40000 elements, successfully processed 39999 elements\n",
      "Processing block 14\n",
      "Loaded 40000 elements, selected 40000 elements, successfully processed 40000 elements\n",
      "Processing block 15\n",
      "Loaded 40000 elements, selected 40000 elements, successfully processed 40000 elements\n",
      "Processing block 16\n",
      "Loaded 40000 elements, selected 40000 elements, successfully processed 40000 elements\n",
      "Processing block 17\n",
      "Loaded 40000 elements, selected 40000 elements, successfully processed 40000 elements\n",
      "Processing block 18\n",
      "Loaded 40000 elements, selected 40000 elements, successfully processed 40000 elements\n",
      "Processing block 19\n",
      "Loaded 40000 elements, selected 40000 elements, successfully processed 40000 elements\n",
      "Processing block 20\n",
      "Loaded 40000 elements, selected 40000 elements, successfully processed 40000 elements\n",
      "Processing block 21\n",
      "Loaded 40000 elements, selected 40000 elements, successfully processed 40000 elements\n",
      "Processing block 22\n",
      "Loaded 40000 elements, selected 40000 elements, successfully processed 40000 elements\n",
      "Processing block 23\n",
      "Loaded 40000 elements, selected 40000 elements, successfully processed 40000 elements\n",
      "Processing block 24\n",
      "Loaded 40000 elements, selected 40000 elements, successfully processed 40000 elements\n",
      "Processing block 25\n",
      "Loaded 40000 elements, selected 40000 elements, successfully processed 40000 elements\n",
      "Processing block 26\n",
      "Loaded 40000 elements, selected 40000 elements, successfully processed 40000 elements\n",
      "Processing block 27\n",
      "Loaded 40000 elements, selected 40000 elements, successfully processed 40000 elements\n",
      "Processing block 28\n",
      "Loaded 40000 elements, selected 40000 elements, successfully processed 40000 elements\n",
      "Processing block 29\n",
      "Loaded 40000 elements, selected 40000 elements, successfully processed 40000 elements\n",
      "Processing block 30\n",
      "Loaded 40000 elements, selected 40000 elements, successfully processed 40000 elements\n",
      "Processing block 31\n",
      "Loaded 40000 elements, selected 40000 elements, successfully processed 40000 elements\n",
      "Processing block 32\n",
      "Loaded 40000 elements, selected 40000 elements, successfully processed 40000 elements\n",
      "Processing block 33\n",
      "Loaded 40000 elements, selected 40000 elements, successfully processed 40000 elements\n",
      "Processing block 34\n",
      "Loaded 40000 elements, selected 40000 elements, successfully processed 40000 elements\n",
      "Processing block 35\n",
      "Loaded 40000 elements, selected 40000 elements, successfully processed 40000 elements\n",
      "Processing block 36\n",
      "Loaded 40000 elements, selected 40000 elements, successfully processed 40000 elements\n",
      "Processing block 37\n"
     ]
    },
    {
     "name": "stderr",
     "output_type": "stream",
     "text": [
      "RDKit WARNING: [18:01:30] WARNING: could not find number of expected rings. Switching to an approximate ring finding algorithm.\n",
      "RDKit WARNING: [18:01:41] WARNING: could not find number of expected rings. Switching to an approximate ring finding algorithm.\n",
      "RDKit WARNING: [18:02:00] WARNING: could not find number of expected rings. Switching to an approximate ring finding algorithm.\n"
     ]
    },
    {
     "name": "stdout",
     "output_type": "stream",
     "text": [
      "Loaded 40000 elements, selected 40000 elements, successfully processed 40000 elements\n",
      "Processing block 38\n",
      "Loaded 40000 elements, selected 40000 elements, successfully processed 40000 elements\n",
      "Processing block 39\n",
      "Loaded 40000 elements, selected 40000 elements, successfully processed 40000 elements\n",
      "Processing block 40\n",
      "Loaded 40000 elements, selected 40000 elements, successfully processed 40000 elements\n",
      "Processing block 41\n",
      "Loaded 40000 elements, selected 40000 elements, successfully processed 40000 elements\n",
      "Processing block 42\n",
      "Loaded 40000 elements, selected 40000 elements, successfully processed 40000 elements\n",
      "Processing block 43\n",
      "Loaded 40000 elements, selected 40000 elements, successfully processed 40000 elements\n",
      "Processing block 44\n",
      "Loaded 40000 elements, selected 40000 elements, successfully processed 40000 elements\n",
      "Processing block 45\n",
      "Loaded 40000 elements, selected 40000 elements, successfully processed 40000 elements\n",
      "Processing block 46\n",
      "Loaded 40000 elements, selected 40000 elements, successfully processed 40000 elements\n",
      "Processing block 47\n",
      "Loaded 40000 elements, selected 40000 elements, successfully processed 40000 elements\n",
      "Processing block 48\n",
      "Loaded 40000 elements, selected 40000 elements, successfully processed 40000 elements\n",
      "Processing block 49\n",
      "Loaded 40000 elements, selected 40000 elements, successfully processed 40000 elements\n",
      "Processing block 50\n",
      "Loaded 40000 elements, selected 40000 elements, successfully processed 40000 elements\n",
      "Processing block 51\n",
      "Loaded 40000 elements, selected 40000 elements, successfully processed 40000 elements\n",
      "Processing block 52\n",
      "Loaded 40000 elements, selected 40000 elements, successfully processed 40000 elements\n",
      "Processing block 53\n",
      "Loaded 40000 elements, selected 40000 elements, successfully processed 40000 elements\n",
      "Processing block 54\n",
      "Loaded 40000 elements, selected 40000 elements, successfully processed 40000 elements\n",
      "Processing block 55\n",
      "Loaded 40000 elements, selected 40000 elements, successfully processed 40000 elements\n",
      "Processing block 56\n",
      "Loaded 40000 elements, selected 40000 elements, successfully processed 40000 elements\n",
      "Processing block 57\n",
      "Loaded 40000 elements, selected 40000 elements, successfully processed 40000 elements\n",
      "Processing block 58\n",
      "Loaded 40000 elements, selected 40000 elements, successfully processed 40000 elements\n",
      "Processing block 59\n",
      "Loaded 40000 elements, selected 40000 elements, successfully processed 40000 elements\n",
      "Processing block 60\n",
      "Loaded 40000 elements, selected 40000 elements, successfully processed 40000 elements\n",
      "Processing block 61\n",
      "Loaded 40000 elements, selected 40000 elements, successfully processed 40000 elements\n",
      "Processing block 62\n",
      "Loaded 40000 elements, selected 40000 elements, successfully processed 40000 elements\n",
      "Processing block 63\n",
      "Loaded 40000 elements, selected 40000 elements, successfully processed 40000 elements\n",
      "Processing block 64\n",
      "Loaded 40000 elements, selected 40000 elements, successfully processed 40000 elements\n",
      "Processing block 65\n",
      "Loaded 40000 elements, selected 40000 elements, successfully processed 40000 elements\n",
      "Processing block 66\n",
      "Loaded 40000 elements, selected 40000 elements, successfully processed 40000 elements\n",
      "Processing block 67\n",
      "Loaded 40000 elements, selected 40000 elements, successfully processed 40000 elements\n",
      "Processing block 68\n",
      "Loaded 40000 elements, selected 40000 elements, successfully processed 40000 elements\n",
      "Processing block 69\n",
      "Loaded 40000 elements, selected 40000 elements, successfully processed 40000 elements\n",
      "Processing block 70\n",
      "Loaded 40000 elements, selected 40000 elements, successfully processed 40000 elements\n",
      "Processing block 71\n",
      "Loaded 40000 elements, selected 40000 elements, successfully processed 40000 elements\n",
      "Processing block 72\n",
      "Loaded 40000 elements, selected 40000 elements, successfully processed 40000 elements\n",
      "Processing block 73\n",
      "Loaded 40000 elements, selected 40000 elements, successfully processed 40000 elements\n",
      "Processing block 74\n",
      "Loaded 40000 elements, selected 40000 elements, successfully processed 40000 elements\n",
      "Processing block 75\n",
      "Loaded 40000 elements, selected 40000 elements, successfully processed 40000 elements\n",
      "Processing block 76\n",
      "Loaded 40000 elements, selected 40000 elements, successfully processed 40000 elements\n",
      "Processing block 77\n",
      "Loaded 40000 elements, selected 40000 elements, successfully processed 40000 elements\n",
      "Processing block 78\n",
      "Loaded 40000 elements, selected 40000 elements, successfully processed 40000 elements\n",
      "Processing block 79\n",
      "Loaded 40000 elements, selected 40000 elements, successfully processed 40000 elements\n",
      "Processing block 80\n",
      "Loaded 40000 elements, selected 40000 elements, successfully processed 40000 elements\n",
      "Processing block 81\n",
      "Loaded 40000 elements, selected 40000 elements, successfully processed 40000 elements\n",
      "Processing block 82\n",
      "Loaded 40000 elements, selected 40000 elements, successfully processed 40000 elements\n",
      "Processing block 83\n",
      "Loaded 40000 elements, selected 40000 elements, successfully processed 40000 elements\n",
      "Processing block 84\n",
      "Loaded 40000 elements, selected 40000 elements, successfully processed 40000 elements\n",
      "Processing block 85\n",
      "Loaded 40000 elements, selected 40000 elements, successfully processed 40000 elements\n",
      "Processing block 86\n",
      "Loaded 40000 elements, selected 40000 elements, successfully processed 40000 elements\n",
      "Processing block 87\n",
      "Loaded 40000 elements, selected 40000 elements, successfully processed 40000 elements\n",
      "Processing block 88\n",
      "Loaded 40000 elements, selected 40000 elements, successfully processed 40000 elements\n",
      "Processing block 89\n"
     ]
    },
    {
     "name": "stderr",
     "output_type": "stream",
     "text": [
      "RDKit ERROR: [18:48:12] Can't kekulize mol.  Unkekulized atoms: 2 3 4 5 6 7 8 9 10 11 12 13 14 15 16 19 22 23 24 27 30 31 32 35 38 39 40 43 46 47 48 49 50 51 52 53 54 55 56 57 58 59 62 65 66 67 70 73 74 75 78 81 82 83 86 87 88 89 90 91 92 93 94 95 96 97 98 99 100 101 102 103 104 105 106 107 108 109 110 111 112 113 114 115 116 117 118 119 120 121 122 123 124 125 126 127 128 129 130 131 132 133 134 135 136 137 138 139 140 141 142 143 144 145 146 147 148 149 150 151\n",
      "RDKit ERROR: \n"
     ]
    },
    {
     "name": "stdout",
     "output_type": "stream",
     "text": [
      "Error generating fingerprint\n"
     ]
    },
    {
     "name": "stderr",
     "output_type": "stream",
     "text": [
      "RDKit ERROR: [18:48:31] Can't kekulize mol.  Unkekulized atoms: 2 3 4 5 6 7 8 9 10 11 12 13 14 15 16 19 22 23 24 27 30 31 32 35 38 39 40 43 46 47 48 49 50 51 52 53 54 55 56 57 58 59 62 65 66 67 70 73 74 75 78 81 82 83 86 87 88 89 90 91 92 93 94 95 96 97 98 99 100 101 102 103 104 105 106 107 108 109 110 111 112 113 114 115 116 117 118 119 120 121 122 123 124 125 126 127 128 129 130 131 132 133 134 135 136 137 138 139 140 141 142 143 144 145 146 147 148 149 150 151\n",
      "RDKit ERROR: \n"
     ]
    },
    {
     "name": "stdout",
     "output_type": "stream",
     "text": [
      "Loaded 40000 elements, selected 40000 elements, successfully processed 39999 elements\n",
      "Processing block 90\n",
      "Loaded 40000 elements, selected 40000 elements, successfully processed 40000 elements\n",
      "Processing block 91\n",
      "Loaded 40000 elements, selected 40000 elements, successfully processed 40000 elements\n",
      "Processing block 92\n",
      "Loaded 40000 elements, selected 40000 elements, successfully processed 40000 elements\n",
      "Processing block 93\n",
      "Loaded 40000 elements, selected 40000 elements, successfully processed 40000 elements\n",
      "Processing block 94\n",
      "Loaded 40000 elements, selected 40000 elements, successfully processed 40000 elements\n",
      "Processing block 95\n",
      "Loaded 40000 elements, selected 40000 elements, successfully processed 40000 elements\n",
      "Processing block 96\n",
      "Loaded 40000 elements, selected 40000 elements, successfully processed 40000 elements\n",
      "Processing block 97\n",
      "Loaded 11780 elements, selected 11780 elements, successfully processed 11780 elements\n",
      "Done.\n"
     ]
    }
   ],
   "source": [
    "\n",
    "processed_blocks = 0\n",
    "while (len(block) > 0) and (processed_blocks < PROCESSING_BLOCK_MAX_COUNT):\n",
    "    print(f\"Processing block {processed_blocks}\")\n",
    "    selected_elements = len(block)\n",
    "    data_proc = db_item_block(block)\n",
    "    print(f\"Loaded {len(block)} elements, \"\n",
    "          f\"selected {selected_elements} elements, \"\n",
    "          f\"successfully processed {len(data_proc)} elements\")\n",
    "    fp_db.insert_fp_multiple(data_proc)\n",
    "    #print(f\"last inserted id: {inserted_id}\")\n",
    "    block = take(PROCESSING_BLOCK_SIZE, data_iter)\n",
    "    processed_blocks = processed_blocks + 1\n",
    "print(\"Done.\")"
   ]
  }
 ],
 "metadata": {
  "kernelspec": {
   "display_name": "Python 3",
   "language": "python",
   "name": "python3"
  },
  "language_info": {
   "codemirror_mode": {
    "name": "ipython",
    "version": 3
   },
   "file_extension": ".py",
   "mimetype": "text/x-python",
   "name": "python",
   "nbconvert_exporter": "python",
   "pygments_lexer": "ipython3",
   "version": "3.7.10"
  },
  "orig_nbformat": 4
 },
 "nbformat": 4,
 "nbformat_minor": 2
}
