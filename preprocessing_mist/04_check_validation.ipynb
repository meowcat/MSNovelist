{
 "cells": [
  {
   "cell_type": "code",
   "execution_count": 1,
   "metadata": {},
   "outputs": [],
   "source": [
    "\n",
    "\n",
    "import sys\n",
    "sys.path.append('~/msmsgym/msnovelist-private')\n",
    "\n",
    "import infrastructure.preprocessing as pp\n",
    "import sqlite3\n",
    "import yaml\n",
    "import fp_management.fp_database as db\n",
    "import fp_management.fp_database_sqlite\n",
    "from tqdm import tqdm\n",
    "\n",
    "PROCESSING_BLOCK_MAX_COUNT=9999999999\n",
    "#PROCESSING_BLOCK_MAX_COUNT=100000\n",
    "\n",
    "\n",
    "config_ = \"/home/stravsmi/msmsgym/MSNovelist-private/preprocessing_mist/log.yaml\"\n",
    "with open(config_, 'r') as f:\n",
    "    config = yaml.safe_load(f)\n",
    "\n"
   ]
  },
  {
   "cell_type": "code",
   "execution_count": 2,
   "metadata": {},
   "outputs": [],
   "source": [
    "\n",
    "db_crossval = config[\"db_step2\"]\n",
    "fp_db = db.FpDatabase.load_from_config(db_crossval)\n",
    "#fp_db.randomize()"
   ]
  },
  {
   "cell_type": "code",
   "execution_count": 3,
   "metadata": {},
   "outputs": [
    {
     "name": "stderr",
     "output_type": "stream",
     "text": [
      "233446it [01:20, 2888.45it/s]\n"
     ]
    }
   ],
   "source": [
    "q = f\"SELECT id, smiles_canonical FROM compounds LIMIT {PROCESSING_BLOCK_MAX_COUNT}\"\n",
    "cur = fp_db._db_con.cursor()\n",
    "res = cur.execute(q)\n",
    "#data = res.fetchone()\n",
    "id_invalid = []\n",
    "for data in tqdm(res):\n",
    "    is_ok = pp.substance_OK(data[\"smiles_canonical\"])\n",
    "    if is_ok != 0:\n",
    "        id_invalid.append(data[\"id\"])"
   ]
  },
  {
   "cell_type": "code",
   "execution_count": 4,
   "metadata": {},
   "outputs": [
    {
     "name": "stdout",
     "output_type": "stream",
     "text": [
      "Invalid entries: 2858\n"
     ]
    }
   ],
   "source": [
    "\n",
    "invalid_file = db_crossval + \".invalid_ids\"\n",
    "with open(invalid_file, \"w\") as f:\n",
    "    f.writelines([str(x) + \"\\n\" for x in id_invalid])\n",
    "\n",
    "print(f\"Invalid entries: {len(id_invalid)}\")\n",
    "\n"
   ]
  }
 ],
 "metadata": {
  "kernelspec": {
   "display_name": "Python 3",
   "language": "python",
   "name": "python3"
  },
  "language_info": {
   "codemirror_mode": {
    "name": "ipython",
    "version": 3
   },
   "file_extension": ".py",
   "mimetype": "text/x-python",
   "name": "python",
   "nbconvert_exporter": "python",
   "pygments_lexer": "ipython3",
   "version": "3.7.10"
  },
  "orig_nbformat": 4
 },
 "nbformat": 4,
 "nbformat_minor": 2
}
