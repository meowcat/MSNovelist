{
 "cells": [
  {
   "cell_type": "code",
   "execution_count": 1,
   "metadata": {},
   "outputs": [],
   "source": [
    "\n",
    "\n",
    "import sys\n",
    "sys.path.append('~/msmsgym/msnovelist-private')\n",
    "\n",
    "import infrastructure.preprocessing as pp\n",
    "import sqlite3\n",
    "import yaml\n",
    "import fp_management.fp_database as db\n",
    "import fp_management.fp_database_sqlite\n",
    "from tqdm import tqdm\n",
    "from iteration_utilities import duplicates\n",
    "\n",
    "\n",
    "PROCESSING_BLOCK_MAX_COUNT=9999999999\n",
    "#PROCESSING_BLOCK_MAX_COUNT=100000\n",
    "\n",
    "\n",
    "config_ = \"/home/stravsmi/msmsgym/MSNovelist-private/preprocessing_mist/log.yaml\"\n",
    "with open(config_, 'r') as f:\n",
    "    config = yaml.safe_load(f)\n",
    "\n",
    "db_train = config[\"db_step1\"]\n"
   ]
  },
  {
   "cell_type": "code",
   "execution_count": 2,
   "metadata": {},
   "outputs": [
    {
     "name": "stderr",
     "output_type": "stream",
     "text": [
      "100%|██████████| 11/11 [00:00<00:00, 15057.88it/s]\n"
     ]
    }
   ],
   "source": [
    "con = sqlite3.connect(db_train)\n",
    "with con:\n",
    "    cur = con.cursor()\n",
    "\n",
    "    q = \"CREATE INDEX IF NOT EXISTS inchikeys ON compounds (inchikey1)\"\n",
    "    res = cur.execute(q)\n",
    "\n",
    "    q = \"SELECT inchikey1 FROM compounds\"\n",
    "    res = cur.execute(q)\n",
    "    keys = res.fetchall()\n",
    "    keys_keys = [x[0] for x in keys]\n",
    "    keys_set = set(keys_keys)\n",
    "\n",
    "    dups = list(duplicates(keys_keys))\n",
    "    dups_killed = {}\n",
    "    q = \"UPDATE compounds SET grp = 'invalid' WHERE inchikey1 = ?\"\n",
    "    for dup in tqdm(dups):\n",
    "        res = cur.execute(q, [dup])\n",
    "        cnt = cur.rowcount\n",
    "        dups_killed[dup] = cnt\n",
    "\n"
   ]
  },
  {
   "cell_type": "code",
   "execution_count": 3,
   "metadata": {},
   "outputs": [],
   "source": [
    "con.close()"
   ]
  }
 ],
 "metadata": {
  "kernelspec": {
   "display_name": "Python 3",
   "language": "python",
   "name": "python3"
  },
  "language_info": {
   "codemirror_mode": {
    "name": "ipython",
    "version": 3
   },
   "file_extension": ".py",
   "mimetype": "text/x-python",
   "name": "python",
   "nbconvert_exporter": "python",
   "pygments_lexer": "ipython3",
   "version": "3.7.10"
  },
  "orig_nbformat": 4
 },
 "nbformat": 4,
 "nbformat_minor": 2
}
